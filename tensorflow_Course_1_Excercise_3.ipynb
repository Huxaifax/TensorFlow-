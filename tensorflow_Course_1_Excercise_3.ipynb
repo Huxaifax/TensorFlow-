{
  "nbformat": 4,
  "nbformat_minor": 0,
  "metadata": {
    "colab": {
      "name": "tensorflow_Course_1_Excercise_3.ipynb",
      "provenance": [],
      "collapsed_sections": [],
      "authorship_tag": "ABX9TyNn82NADWH1rx0pC4HPOvvF",
      "include_colab_link": true
    },
    "kernelspec": {
      "name": "python3",
      "display_name": "Python 3"
    },
    "language_info": {
      "name": "python"
    }
  },
  "cells": [
    {
      "cell_type": "markdown",
      "metadata": {
        "id": "view-in-github",
        "colab_type": "text"
      },
      "source": [
        "<a href=\"https://colab.research.google.com/github/Huxaifax/TensorFlow-/blob/main/tensorflow_Course_1_Excercise_3.ipynb\" target=\"_parent\"><img src=\"https://colab.research.google.com/assets/colab-badge.svg\" alt=\"Open In Colab\"/></a>"
      ]
    },
    {
      "cell_type": "code",
      "source": [
        "import tensorflow as tf"
      ],
      "metadata": {
        "id": "iBjxQCclGNWZ"
      },
      "execution_count": 6,
      "outputs": []
    },
    {
      "cell_type": "code",
      "source": [
        "    # GRADED FUNCTION: train_mnist_conv\n",
        "def train_mnist_conv():\n",
        "  # please do not remove model fitting inline comments.\n",
        "\n",
        "  # YOUR CODE STARTS HERE\n",
        "  class myCallback(tf.keras.callbacks.Callback):\n",
        "        def on_epoch_end(self, epoch, logs={}):\n",
        "            if(logs.get('accuracy')>0.998):\n",
        "              print(\"\\nReached 99% accuracy so cancelling training!\")\n",
        "              self.model.stop_training = True\n",
        "  \n",
        "  # YOUR CODE ENDS HERE\n",
        "\n",
        "  mnist = tf.keras.datasets.mnist\n",
        "  (training_images, training_labels), (test_images, test_labels) = mnist.load_data()\n",
        "  # YOUR CODE STARTS HERE\n",
        "  callbacks = myCallback()\n",
        "  \n",
        "  training_images=training_images.reshape(60000, 28, 28, 1)\n",
        "  training_images=training_images / 255.0\n",
        "  test_images = test_images.reshape(10000, 28, 28, 1)\n",
        "  test_images=test_images/255.0\n",
        "  # YOUR CODE ENDS HERE\n",
        "\n",
        "  model = tf.keras.models.Sequential([\n",
        "          # YOUR CODE STARTS HERE\n",
        "          tf.keras.layers.Conv2D(64, (3,3), activation='relu', input_shape=(28, 28, 1)),\n",
        "          tf.keras.layers.MaxPooling2D(2, 2),\n",
        "          tf.keras.layers.Conv2D(64, (3,3), activation='relu'),\n",
        "          tf.keras.layers.MaxPooling2D(2,2),\n",
        "          tf.keras.layers.Flatten(),\n",
        "          tf.keras.layers.Dense(128, activation='relu'),\n",
        "          tf.keras.layers.Dense(10, activation='softmax')\n",
        "          # YOUR CODE ENDS HERE\n",
        "  ])\n",
        "\n",
        "  model.compile(optimizer='adam', loss='sparse_categorical_crossentropy', metrics=['accuracy'])\n",
        "  # model fitting\n",
        "  history = model.fit(\n",
        "      # YOUR CODE STARTS HERE\n",
        "          training_images, training_labels, epochs=1, callbacks=[callbacks]\n",
        "      # YOUR CODE ENDS HERE\n",
        "  )\n",
        "  print(model.evaluate(test_images,test_labels))\n",
        "  # model fitting\n",
        "  return history.epoch, history.history['accuracy'][-1]"
      ],
      "metadata": {
        "id": "UUeOMCMgBjLR"
      },
      "execution_count": 11,
      "outputs": []
    },
    {
      "cell_type": "code",
      "source": [
        "\n",
        "_, _ = train_mnist_conv()"
      ],
      "metadata": {
        "colab": {
          "base_uri": "https://localhost:8080/"
        },
        "id": "QyHtPGx8Bs8j",
        "outputId": "abad78f1-d432-4530-8eb8-a3154b075b16"
      },
      "execution_count": 12,
      "outputs": [
        {
          "output_type": "stream",
          "name": "stdout",
          "text": [
            "1875/1875 [==============================] - 68s 36ms/step - loss: 0.1250 - accuracy: 0.9615\n",
            "313/313 [==============================] - 3s 10ms/step - loss: 0.0405 - accuracy: 0.9876\n",
            "[0.04053626209497452, 0.9876000285148621]\n"
          ]
        }
      ]
    },
    {
      "cell_type": "code",
      "source": [
        ""
      ],
      "metadata": {
        "id": "gqbPLuTLI6Rd"
      },
      "execution_count": null,
      "outputs": []
    }
  ]
}