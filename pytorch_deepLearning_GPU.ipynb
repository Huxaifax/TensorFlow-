{
  "nbformat": 4,
  "nbformat_minor": 0,
  "metadata": {
    "colab": {
      "name": "pytorch_deepLearning_GPU.ipynb",
      "provenance": [],
      "collapsed_sections": [],
      "authorship_tag": "ABX9TyNh126NObTwYHZ0+plepElB",
      "include_colab_link": true
    },
    "kernelspec": {
      "name": "python3",
      "display_name": "Python 3"
    },
    "language_info": {
      "name": "python"
    },
    "accelerator": "GPU"
  },
  "cells": [
    {
      "cell_type": "markdown",
      "metadata": {
        "id": "view-in-github",
        "colab_type": "text"
      },
      "source": [
        "<a href=\"https://colab.research.google.com/github/Huxaifax/TensorFlow-/blob/main/pytorch_deepLearning_GPU.ipynb\" target=\"_parent\"><img src=\"https://colab.research.google.com/assets/colab-badge.svg\" alt=\"Open In Colab\"/></a>"
      ]
    },
    {
      "cell_type": "code",
      "source": [
        " import torch\n",
        " import numpy as np\n",
        " import torchvision\n",
        " from torchvision.datasets import MNIST\n",
        " from torchvision.transforms import ToTensor\n",
        " from torch.utils.data.sampler import SubsetRandomSampler\n",
        " from torch.utils.data.dataloader import DataLoader"
      ],
      "metadata": {
        "id": "yK3NqRGuGTyZ"
      },
      "execution_count": 41,
      "outputs": []
    },
    {
      "cell_type": "code",
      "source": [
        "dataset = MNIST(root='data/',\n",
        "                download = True,\n",
        "                transform=ToTensor())"
      ],
      "metadata": {
        "id": "G6Em7rNvIwo3"
      },
      "execution_count": 42,
      "outputs": []
    },
    {
      "cell_type": "code",
      "source": [
        "img, label = dataset[0]"
      ],
      "metadata": {
        "id": "PubBFTV3KDcp"
      },
      "execution_count": 43,
      "outputs": []
    },
    {
      "cell_type": "code",
      "source": [
        "import matplotlib.pyplot as plt\n",
        "%matplotlib inline\n",
        "plt.imshow(img[0])"
      ],
      "metadata": {
        "colab": {
          "base_uri": "https://localhost:8080/",
          "height": 282
        },
        "id": "A5asvZzyKRCQ",
        "outputId": "f37c3996-b110-4ede-ea0c-da49e400190b"
      },
      "execution_count": 44,
      "outputs": [
        {
          "output_type": "execute_result",
          "data": {
            "text/plain": [
              "<matplotlib.image.AxesImage at 0x7fdd26260110>"
            ]
          },
          "metadata": {},
          "execution_count": 44
        },
        {
          "output_type": "display_data",
          "data": {
            "text/plain": [
              "<Figure size 432x288 with 1 Axes>"
            ],
            "image/png": "[encoded data removed]"
          },
          "metadata": {
            "needs_background": "light"
          }
        }
      ]
    },
    {
      "cell_type": "code",
      "source": [
        "img[0,10:15,10:15]"
      ],
      "metadata": {
        "colab": {
          "base_uri": "https://localhost:8080/"
        },
        "id": "suXitB90K8yw",
        "outputId": "9824bc84-5e21-408f-ab72-6376db1022bd"
      },
      "execution_count": 45,
      "outputs": [
        {
          "output_type": "execute_result",
          "data": {
            "text/plain": [
              "tensor([[0.0039, 0.6039, 0.9922, 0.3529, 0.0000],\n",
              "        [0.0000, 0.5451, 0.9922, 0.7451, 0.0078],\n",
              "        [0.0000, 0.0431, 0.7451, 0.9922, 0.2745],\n",
              "        [0.0000, 0.0000, 0.1373, 0.9451, 0.8824],\n",
              "        [0.0000, 0.0000, 0.0000, 0.3176, 0.9412]])"
            ]
          },
          "metadata": {},
          "execution_count": 45
        }
      ]
    },
    {
      "cell_type": "code",
      "source": [
        "def split_indices(n,val_pct):\n",
        "  n_val= int(val_pct*n)\n",
        "  idxs = np.random.permutation(n)\n",
        "  return idxs[n_val:], idxs[:n_val]"
      ],
      "metadata": {
        "id": "EJ_PfJITLY2w"
      },
      "execution_count": 46,
      "outputs": []
    },
    {
      "cell_type": "code",
      "source": [
        "train_indices, val_indices = split_indices(len(dataset), val_pct=0.2)\n",
        "\n",
        "print(len(train_indices), len(val_indices))\n",
        "print(\"Sample val indices\", val_indices[:20])"
      ],
      "metadata": {
        "colab": {
          "base_uri": "https://localhost:8080/"
        },
        "id": "UxdVsle-N3Nd",
        "outputId": "3f0295c8-548b-4194-be7f-9eeeba4dbf0d"
      },
      "execution_count": 47,
      "outputs": [
        {
          "output_type": "stream",
          "name": "stdout",
          "text": [
            "48000 12000\n",
            "Sample val indices [56348 16851 40634  2869  4657 31282 16626 53670 32501 39218 47098  2516\n",
            " 26143 43900  2207 42960 38253 19981 34325 14002]\n"
          ]
        }
      ]
    },
    {
      "cell_type": "code",
      "source": [
        "batch_size = 100\n",
        "\n",
        "train_sampler = SubsetRandomSampler(train_indices)\n",
        "train_dl = DataLoader(dataset,\n",
        "                      batch_size,\n",
        "                      sampler = train_sampler)\n",
        "\n",
        "valid_sampler = SubsetRandomSampler(val_indices)\n",
        "valid_dl = DataLoader(dataset,\n",
        "                      batch_size,\n",
        "                      sampler = valid_sampler)"
      ],
      "metadata": {
        "id": "ITvlrJmKO5LF"
      },
      "execution_count": 48,
      "outputs": []
    },
    {
      "cell_type": "code",
      "source": [
        "import torch.nn.functional as F\n",
        "import torch.nn as nn"
      ],
      "metadata": {
        "id": "kwBGPIcQRAMi"
      },
      "execution_count": 49,
      "outputs": []
    },
    {
      "cell_type": "code",
      "source": [
        "class MnistModel(nn.Module):\n",
        "\n",
        "  def __init__(self, in_size, hidden_size, out_size):\n",
        "    super().__init__()\n",
        "    self.linear1 = nn.Linear(in_size, hidden_size)\n",
        "    self.linear2 = nn.Linear(hidden_size, out_size)\n",
        "\n",
        "  def forward(self, xb):\n",
        "    xb = xb.view(xb.size(0), -1)\n",
        "    out = self.linear1(xb)\n",
        "    out = F.relu(out)\n",
        "    out = self.linear2(out)\n",
        "    return out "
      ],
      "metadata": {
        "id": "vaefPkZsa-2V"
      },
      "execution_count": 50,
      "outputs": []
    },
    {
      "cell_type": "code",
      "source": [
        "input_size =784\n",
        "num_classes =10\n",
        "\n",
        "model = MnistModel(input_size, hidden_size=32,\n",
        "                   out_size=num_classes)"
      ],
      "metadata": {
        "id": "33sCPSUPegZm"
      },
      "execution_count": 51,
      "outputs": []
    },
    {
      "cell_type": "code",
      "source": [
        "for t in model.parameters():\n",
        "  print(t.shape)"
      ],
      "metadata": {
        "colab": {
          "base_uri": "https://localhost:8080/"
        },
        "id": "UIXzbweOfRGT",
        "outputId": "ab766f13-7bd1-4149-9d39-c90ae2f38d0f"
      },
      "execution_count": 52,
      "outputs": [
        {
          "output_type": "stream",
          "name": "stdout",
          "text": [
            "torch.Size([32, 784])\n",
            "torch.Size([32])\n",
            "torch.Size([10, 32])\n",
            "torch.Size([10])\n"
          ]
        }
      ]
    },
    {
      "cell_type": "code",
      "source": [
        "for images, labels in train_dl:\n",
        "  outputs = model(images)\n",
        "  loss = F.cross_entropy(outputs, labels)\n",
        "  print('Loss:', loss.item())\n",
        "  break\n",
        "\n",
        "print('outputs shape: ', outputs.shape)\n",
        "print('Sample Outputs :\\n', outputs[:2].data)"
      ],
      "metadata": {
        "colab": {
          "base_uri": "https://localhost:8080/"
        },
        "id": "4pgpWLb0gSGq",
        "outputId": "6468e5f6-06de-4075-e18f-b71d121f11a0"
      },
      "execution_count": 53,
      "outputs": [
        {
          "output_type": "stream",
          "name": "stdout",
          "text": [
            "Loss: 2.330378770828247\n",
            "outputs shape:  torch.Size([100, 10])\n",
            "Sample Outputs :\n",
            " tensor([[ 3.8827e-02, -1.7232e-01, -1.9226e-02,  4.2602e-02, -1.6929e-02,\n",
            "          3.4530e-02, -1.7915e-01,  2.6994e-04, -2.3057e-01,  9.7485e-03],\n",
            "        [ 1.6926e-02, -2.0365e-01,  9.3531e-02,  8.1424e-02, -4.2081e-02,\n",
            "          8.2263e-02, -1.8002e-01, -5.1979e-02, -2.7590e-01,  5.0682e-02]])\n"
          ]
        }
      ]
    },
    {
      "cell_type": "markdown",
      "source": [
        "Training on GPU\n"
      ],
      "metadata": {
        "id": "t3Hh-0v95Sqt"
      }
    },
    {
      "cell_type": "code",
      "source": [
        "torch.cuda.is_available()"
      ],
      "metadata": {
        "colab": {
          "base_uri": "https://localhost:8080/"
        },
        "id": "AogGRfGY5V9l",
        "outputId": "50e78f23-2e9d-4908-f869-9360eb988680"
      },
      "execution_count": 54,
      "outputs": [
        {
          "output_type": "execute_result",
          "data": {
            "text/plain": [
              "True"
            ]
          },
          "metadata": {},
          "execution_count": 54
        }
      ]
    },
    {
      "cell_type": "code",
      "source": [
        "def get_default_device():\n",
        "  if torch.cuda.is_available():\n",
        "    return torch.device('cuda')\n",
        "  else:\n",
        "    return torch.device('cpu')"
      ],
      "metadata": {
        "id": "An9gUww06Kc-"
      },
      "execution_count": 55,
      "outputs": []
    },
    {
      "cell_type": "code",
      "source": [
        "device = get_default_device()\n",
        "device"
      ],
      "metadata": {
        "colab": {
          "base_uri": "https://localhost:8080/"
        },
        "id": "Qsn1htNp7EFw",
        "outputId": "207fa3f5-1588-448b-d2f0-692789a437bb"
      },
      "execution_count": 56,
      "outputs": [
        {
          "output_type": "execute_result",
          "data": {
            "text/plain": [
              "device(type='cuda')"
            ]
          },
          "metadata": {},
          "execution_count": 56
        }
      ]
    },
    {
      "cell_type": "code",
      "source": [
        "def to_device(data, device):\n",
        "  if isinstance(data, (list,tuple)):\n",
        "    return (to_device(x,device) for x in data)\n",
        "  return data.to(device, non_blocking=True)"
      ],
      "metadata": {
        "id": "2UEtcnTG7MRd"
      },
      "execution_count": 57,
      "outputs": []
    },
    {
      "cell_type": "code",
      "source": [
        "for images, labels in train_dl:\n",
        "  print(images.shape)\n",
        "  images = to_device(images, device)\n",
        "  print(images.device)\n",
        "  break"
      ],
      "metadata": {
        "colab": {
          "base_uri": "https://localhost:8080/"
        },
        "id": "LltUwHjJ8m5T",
        "outputId": "a60314cb-88a7-427c-bd34-6cc37bcd939e"
      },
      "execution_count": 58,
      "outputs": [
        {
          "output_type": "stream",
          "name": "stdout",
          "text": [
            "torch.Size([100, 1, 28, 28])\n",
            "cuda:0\n"
          ]
        }
      ]
    },
    {
      "cell_type": "code",
      "source": [
        "class DeviceDataLoader():\n",
        "  def __init__(self, dl, device):\n",
        "    self.dl = dl\n",
        "    self.device = device\n",
        "\n",
        "  def __iter__(self):\n",
        "    for b in self.dl:\n",
        "      yield to_device(b, self.device)\n",
        "\n",
        "  def __len__(self):\n",
        "    return len(self.dl)\n",
        "    "
      ],
      "metadata": {
        "id": "XAZ-8-T19H6-"
      },
      "execution_count": 59,
      "outputs": []
    },
    {
      "cell_type": "code",
      "source": [
        "train_dl = DeviceDataLoader(train_dl, device)\n",
        "valid_dl = DeviceDataLoader(valid_dl, device)\n"
      ],
      "metadata": {
        "id": "ClC9wiid_pfF"
      },
      "execution_count": 60,
      "outputs": []
    },
    {
      "cell_type": "code",
      "source": [
        "for xb, yb in valid_dl:\n",
        "  print('xb.device', xb.device)\n",
        "  print('yb', yb)\n",
        "  break"
      ],
      "metadata": {
        "colab": {
          "base_uri": "https://localhost:8080/"
        },
        "id": "WYMqgLQFAvXS",
        "outputId": "d43cd2e3-f23e-441b-d8ef-248e2a38cdca"
      },
      "execution_count": 61,
      "outputs": [
        {
          "output_type": "stream",
          "name": "stdout",
          "text": [
            "xb.device cuda:0\n",
            "yb tensor([2, 6, 3, 0, 4, 8, 4, 1, 8, 0, 4, 1, 0, 9, 0, 2, 8, 9, 8, 9, 0, 1, 4, 8,\n",
            "        6, 8, 4, 2, 8, 2, 3, 1, 8, 4, 0, 2, 7, 0, 5, 8, 0, 9, 6, 3, 4, 8, 3, 7,\n",
            "        0, 0, 3, 5, 8, 7, 4, 5, 5, 8, 6, 3, 9, 4, 6, 2, 2, 1, 5, 6, 7, 7, 3, 7,\n",
            "        1, 6, 1, 4, 4, 4, 8, 9, 9, 3, 0, 6, 6, 1, 0, 0, 4, 2, 8, 3, 2, 1, 1, 7,\n",
            "        3, 9, 8, 6], device='cuda:0')\n"
          ]
        }
      ]
    },
    {
      "cell_type": "markdown",
      "source": [
        "Training model"
      ],
      "metadata": {
        "id": "MlF8iKwxBXEg"
      }
    },
    {
      "cell_type": "code",
      "source": [
        "def loss_batch(model, loss_func, xb, yb, opt=None, metric=None):\n",
        "  preds = model(xb)\n",
        "  loss = loss_func(preds, yb)\n",
        "\n",
        "  if opt is not None:\n",
        "    loss.backward()\n",
        "    opt.step()\n",
        "    opt.zero_grad()\n",
        "\n",
        "  metric_result = None\n",
        "  if metric is not None:\n",
        "    metric_result = metric(preds, yb)\n",
        "\n",
        "  return loss.item(), len(xb), metric_result"
      ],
      "metadata": {
        "id": "I2RCC-qkBM4q"
      },
      "execution_count": 76,
      "outputs": []
    },
    {
      "cell_type": "code",
      "source": [
        "def evaluate(model, loss_fn, valid_dl, metric=None):\n",
        "  with torch.no_grad():\n",
        "\n",
        "    results= [loss_batch(model, loss_fn, xb, yb, metric=metric)\n",
        "             for xb, yb in valid_dl]\n",
        "\n",
        "    losses, nums, metrics = zip(*results)\n",
        "\n",
        "    total = np.sum(nums)\n",
        "    avg_loss = np.sum(np.multiply(losses,nums))/total\n",
        "    avg_metric = None\n",
        "    if metric is not None:\n",
        "      avg_metric = np.sum(np.multiply(metrics, nums))/total\n",
        "  return avg_loss, total, avg_metric"
      ],
      "metadata": {
        "id": "DJdSFm8y3jhr"
      },
      "execution_count": 77,
      "outputs": []
    },
    {
      "cell_type": "code",
      "source": [
        "def fit(epochs, lr,model, loss_fn, train_dl,\n",
        "        valid_dl, metric=None, opt_fn=None):\n",
        "  losses,metrics = [], []\n",
        "\n",
        "  if opt_fn is None: opt_fn = torch.optim.SGD\n",
        "  opt = opt_fn(model.parameters(),lr=lr)\n",
        "\n",
        "  for epoch in range(epochs):\n",
        "    for xb,yb in train_dl:\n",
        "      loss_batch(model, loss_fn,xb,yb,opt)\n",
        "\n",
        "    result = evaluate(model,loss_fn,valid_dl,metric)\n",
        "    val_loss, total, val_metric = result\n",
        "\n",
        "    losses.append(val_loss)\n",
        "    metrics.append(val_metric)\n",
        "\n",
        "    if metric is None:\n",
        "      print('Epoch [{}/{}}], Loss:{:.4f}'\n",
        "            .format(epoch+1,epochs,val_loss,\n",
        "                    metric.__name__, val_metric))\n",
        "    \n",
        "    else:\n",
        "      print('Epoch[{}/{}], Loss: {:.4f}, {}: {:.4f}'\n",
        "             .format(epoch+1, epochs, val_loss,\n",
        "                    metric.__name__, val_metric))\n",
        "      \n",
        "  return losses, metrics\n",
        "      \n",
        "\n"
      ],
      "metadata": {
        "id": "8fx5fumxDNAD"
      },
      "execution_count": 88,
      "outputs": []
    },
    {
      "cell_type": "code",
      "source": [
        "def accuracy(outputs,labels):\n",
        "  _, preds = torch.max(outputs, dim=1)\n",
        "  return torch.sum(preds==labels).item()/ len(preds)\n",
        "\n"
      ],
      "metadata": {
        "id": "s627TiSB7vLE"
      },
      "execution_count": 89,
      "outputs": []
    },
    {
      "cell_type": "code",
      "source": [
        "model = MnistModel(input_size, hidden_size=32, out_size=num_classes)\n",
        "to_device(model, device)"
      ],
      "metadata": {
        "colab": {
          "base_uri": "https://localhost:8080/"
        },
        "id": "FE2MOj9f8yIb",
        "outputId": "38256474-759c-4134-d602-42f307c8a974"
      },
      "execution_count": 90,
      "outputs": [
        {
          "output_type": "execute_result",
          "data": {
            "text/plain": [
              "MnistModel(\n",
              "  (linear1): Linear(in_features=784, out_features=32, bias=True)\n",
              "  (linear2): Linear(in_features=32, out_features=10, bias=True)\n",
              ")"
            ]
          },
          "metadata": {},
          "execution_count": 90
        }
      ]
    },
    {
      "cell_type": "code",
      "source": [
        "val_loss, total, val_acc = evaluate(model, F.cross_entropy,\n",
        "                                    valid_dl, metric=accuracy)\n",
        "print('Loss: {:.4f}, Accuracy: {:.4f}'.format(val_loss, val_acc))"
      ],
      "metadata": {
        "colab": {
          "base_uri": "https://localhost:8080/"
        },
        "id": "pk8HE_BGM06H",
        "outputId": "2c6ef4f3-84d7-4d2c-8cb1-945cd25bc0d3"
      },
      "execution_count": 91,
      "outputs": [
        {
          "output_type": "stream",
          "name": "stdout",
          "text": [
            "Loss: 2.3020, Accuracy: 0.1223\n"
          ]
        }
      ]
    },
    {
      "cell_type": "code",
      "source": [
        "losses1, metrics1 = fit(5, 0.5, model, F.cross_entropy,\n",
        "                        train_dl, valid_dl, accuracy)"
      ],
      "metadata": {
        "colab": {
          "base_uri": "https://localhost:8080/"
        },
        "id": "EV1pzbqbNm5F",
        "outputId": "218f68f5-083b-4678-f55a-492ad45fad97"
      },
      "execution_count": 92,
      "outputs": [
        {
          "output_type": "stream",
          "name": "stdout",
          "text": [
            "Epoch[1/5], Loss: 0.2342, accuracy: 0.9303\n",
            "Epoch[2/5], Loss: 0.1783, accuracy: 0.9465\n",
            "Epoch[3/5], Loss: 0.1521, accuracy: 0.9557\n",
            "Epoch[4/5], Loss: 0.1409, accuracy: 0.9583\n",
            "Epoch[5/5], Loss: 0.1352, accuracy: 0.9611\n"
          ]
        }
      ]
    },
    {
      "cell_type": "code",
      "source": [
        "losses2, metrics2 = fit(5, 0.1, model, F.cross_entropy,\n",
        "                        train_dl, valid_dl, accuracy)"
      ],
      "metadata": {
        "colab": {
          "base_uri": "https://localhost:8080/"
        },
        "id": "77SItdvBOWxb",
        "outputId": "5533a167-62fa-4838-d93e-b315940c882d"
      },
      "execution_count": 93,
      "outputs": [
        {
          "output_type": "stream",
          "name": "stdout",
          "text": [
            "Epoch[1/5], Loss: 0.1172, accuracy: 0.9653\n",
            "Epoch[2/5], Loss: 0.1169, accuracy: 0.9662\n",
            "Epoch[3/5], Loss: 0.1172, accuracy: 0.9660\n",
            "Epoch[4/5], Loss: 0.1150, accuracy: 0.9670\n",
            "Epoch[5/5], Loss: 0.1133, accuracy: 0.9669\n"
          ]
        }
      ]
    },
    {
      "cell_type": "code",
      "source": [
        "accuracies = [val_acc] + metrics1 + metrics2\n",
        "plt.plot(accuracies, '-x')\n",
        "plt.xlabel('epoch')\n",
        "plt.ylabel('accuracy')\n",
        "plt.title('Accuracy vs no. of epochs')"
      ],
      "metadata": {
        "colab": {
          "base_uri": "https://localhost:8080/",
          "height": 312
        },
        "id": "8CX-M1OoXnAx",
        "outputId": "85d51f2e-9c76-4772-880a-1e7f894cc96f"
      },
      "execution_count": 94,
      "outputs": [
        {
          "output_type": "execute_result",
          "data": {
            "text/plain": [
              "Text(0.5, 1.0, 'Accuracy vs no. of epochs')"
            ]
          },
          "metadata": {},
          "execution_count": 94
        },
        {
          "output_type": "display_data",
          "data": {
            "text/plain": [
              "<Figure size 432x288 with 1 Axes>"
            ],
            "image/png": "[encoded data removed]"
          },
          "metadata": {
            "needs_background": "light"
          }
        }
      ]
    },
    {
      "cell_type": "code",
      "source": [
        ""
      ],
      "metadata": {
        "colab": {
          "base_uri": "https://localhost:8080/"
        },
        "id": "j3S7tNs1Yi6o",
        "outputId": "ef535f55-ef71-4f1d-cca4-bef973efb525"
      },
      "execution_count": 95,
      "outputs": [
        {
          "output_type": "stream",
          "name": "stdout",
          "text": [
            "ss\n"
          ]
        }
      ]
    },
    {
      "cell_type": "code",
      "source": [
        ""
      ],
      "metadata": {
        "id": "C_fxHqJ2cdFN"
      },
      "execution_count": null,
      "outputs": []
    }
  ]
}