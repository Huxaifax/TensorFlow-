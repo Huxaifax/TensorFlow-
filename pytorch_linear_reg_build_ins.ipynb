{
  "nbformat": 4,
  "nbformat_minor": 0,
  "metadata": {
    "colab": {
      "name": "pytorch_linear_reg_build-ins.ipynb",
      "provenance": [],
      "authorship_tag": "ABX9TyPF1RiKNI/F1FExhrk87IJ7",
      "include_colab_link": true
    },
    "kernelspec": {
      "name": "python3",
      "display_name": "Python 3"
    },
    "language_info": {
      "name": "python"
    }
  },
  "cells": [
    {
      "cell_type": "markdown",
      "metadata": {
        "id": "view-in-github",
        "colab_type": "text"
      },
      "source": [
        "<a href=\"https://colab.research.google.com/github/Huxaifax/TensorFlow-/blob/main/pytorch_linear_reg_build_ins.ipynb\" target=\"_parent\"><img src=\"https://colab.research.google.com/assets/colab-badge.svg\" alt=\"Open In Colab\"/></a>"
      ]
    },
    {
      "cell_type": "code",
      "source": [
        "import torch.nn as nn"
      ],
      "metadata": {
        "id": "_iR60QvEe-sg"
      },
      "execution_count": 39,
      "outputs": []
    },
    {
      "cell_type": "code",
      "source": [
        "# Input (temp, rainfall, humidity)\n",
        "inputs = np.array([[73, 67, 43], \n",
        "                   [91, 88, 64], \n",
        "                   [87, 134, 58], \n",
        "                   [102, 43, 37], \n",
        "                   [69, 96, 70], \n",
        "                   [74, 66, 43], \n",
        "                   [91, 87, 65], \n",
        "                   [88, 134, 59], \n",
        "                   [101, 44, 37], \n",
        "                   [68, 96, 71], \n",
        "                   [73, 66, 44], \n",
        "                   [92, 87, 64], \n",
        "                   [87, 135, 57], \n",
        "                   [103, 43, 36], \n",
        "                   [68, 97, 70]], \n",
        "                  dtype='float32')\n",
        "\n",
        "# Targets (apples, oranges)\n",
        "targets = np.array([[56, 70], \n",
        "                    [81, 101], \n",
        "                    [119, 133], \n",
        "                    [22, 37], \n",
        "                    [103, 119],\n",
        "                    [57, 69], \n",
        "                    [80, 102], \n",
        "                    [118, 132], \n",
        "                    [21, 38], \n",
        "                    [104, 118], \n",
        "                    [57, 69], \n",
        "                    [82, 100], \n",
        "                    [118, 134], \n",
        "                    [20, 38], \n",
        "                    [102, 120]], \n",
        "                   dtype='float32')\n",
        "\n",
        "inputs = torch.from_numpy(inputs)\n",
        "targets = torch.from_numpy(targets)"
      ],
      "metadata": {
        "id": "o9OVZgqKm-0_"
      },
      "execution_count": 41,
      "outputs": []
    },
    {
      "cell_type": "code",
      "source": [
        "from torch.utils.data import TensorDataset "
      ],
      "metadata": {
        "id": "iYvR26r5ni4m"
      },
      "execution_count": 42,
      "outputs": []
    },
    {
      "cell_type": "code",
      "source": [
        "train_ds = TensorDataset(inputs, targets)\n",
        "train_ds[0:3]"
      ],
      "metadata": {
        "colab": {
          "base_uri": "https://localhost:8080/"
        },
        "id": "bY2JCtAMryp4",
        "outputId": "389129c0-96da-48c4-cf92-1e18e1df226a"
      },
      "execution_count": 47,
      "outputs": [
        {
          "output_type": "execute_result",
          "data": {
            "text/plain": [
              "(tensor([[ 73.,  67.,  43.],\n",
              "         [ 91.,  88.,  64.],\n",
              "         [ 87., 134.,  58.]]), tensor([[ 56.,  70.],\n",
              "         [ 81., 101.],\n",
              "         [119., 133.]]))"
            ]
          },
          "metadata": {},
          "execution_count": 47
        }
      ]
    },
    {
      "cell_type": "code",
      "source": [
        "from torch.utils.data import DataLoader"
      ],
      "metadata": {
        "id": "acXgowD4sPi3"
      },
      "execution_count": 48,
      "outputs": []
    },
    {
      "cell_type": "code",
      "source": [
        "batch_size = 5\n",
        "train_dl = DataLoader(train_ds,batch_size, shuffle = True)"
      ],
      "metadata": {
        "id": "YB4hUskYtDFQ"
      },
      "execution_count": 49,
      "outputs": []
    },
    {
      "cell_type": "code",
      "source": [
        "for xb, yb in train_dl:\n",
        "  print(xb)\n",
        "  print(yb)\n",
        "  break"
      ],
      "metadata": {
        "colab": {
          "base_uri": "https://localhost:8080/"
        },
        "id": "MV0tGum2tS53",
        "outputId": "ef03ec42-8ae9-4016-d0dd-fe64753e8e3d"
      },
      "execution_count": 50,
      "outputs": [
        {
          "output_type": "stream",
          "name": "stdout",
          "text": [
            "tensor([[ 87., 134.,  58.],\n",
            "        [101.,  44.,  37.],\n",
            "        [ 73.,  66.,  44.],\n",
            "        [ 68.,  97.,  70.],\n",
            "        [ 69.,  96.,  70.]])\n",
            "tensor([[119., 133.],\n",
            "        [ 21.,  38.],\n",
            "        [ 57.,  69.],\n",
            "        [102., 120.],\n",
            "        [103., 119.]])\n"
          ]
        }
      ]
    },
    {
      "cell_type": "code",
      "source": [
        "model = nn.Linear(3,2)\n",
        "print(model.weight)\n",
        "print(model.bias)"
      ],
      "metadata": {
        "colab": {
          "base_uri": "https://localhost:8080/"
        },
        "id": "h08-nymfuDGn",
        "outputId": "86d1e161-85af-40cb-ba37-f3f075792476"
      },
      "execution_count": 53,
      "outputs": [
        {
          "output_type": "stream",
          "name": "stdout",
          "text": [
            "Parameter containing:\n",
            "tensor([[-0.0859,  0.5380, -0.4807],\n",
            "        [ 0.2650,  0.2243,  0.1064]], requires_grad=True)\n",
            "Parameter containing:\n",
            "tensor([-0.3448, -0.1101], requires_grad=True)\n"
          ]
        }
      ]
    },
    {
      "cell_type": "code",
      "source": [
        "list(model.parameters())"
      ],
      "metadata": {
        "colab": {
          "base_uri": "https://localhost:8080/"
        },
        "id": "JR_r9ZXkufci",
        "outputId": "d63ccbe6-f5db-4d58-c91f-41a98ad32c8f"
      },
      "execution_count": 54,
      "outputs": [
        {
          "output_type": "execute_result",
          "data": {
            "text/plain": [
              "[Parameter containing:\n",
              " tensor([[-0.0859,  0.5380, -0.4807],\n",
              "         [ 0.2650,  0.2243,  0.1064]], requires_grad=True),\n",
              " Parameter containing:\n",
              " tensor([-0.3448, -0.1101], requires_grad=True)]"
            ]
          },
          "metadata": {},
          "execution_count": 54
        }
      ]
    },
    {
      "cell_type": "code",
      "source": [
        "preds = model(inputs)\n",
        "preds"
      ],
      "metadata": {
        "colab": {
          "base_uri": "https://localhost:8080/"
        },
        "id": "q6eSu31Lu-Km",
        "outputId": "c36e4866-acf6-4f5b-f8eb-38796a3e572c"
      },
      "execution_count": 55,
      "outputs": [
        {
          "output_type": "execute_result",
          "data": {
            "text/plain": [
              "tensor([[ 8.7629, 38.8406],\n",
              "        [ 8.4210, 50.5554],\n",
              "        [36.3968, 59.1756],\n",
              "        [-3.7563, 40.5053],\n",
              "        [11.7307, 47.1570],\n",
              "        [ 8.1390, 38.8813],\n",
              "        [ 7.4023, 50.4375],\n",
              "        [35.8303, 59.5470],\n",
              "        [-3.1324, 40.4646],\n",
              "        [11.3360, 46.9983],\n",
              "        [ 7.7442, 38.7226],\n",
              "        [ 7.7971, 50.5962],\n",
              "        [37.4155, 59.2936],\n",
              "        [-3.3615, 40.6640],\n",
              "        [12.3546, 47.1163]], grad_fn=<AddmmBackward0>)"
            ]
          },
          "metadata": {},
          "execution_count": 55
        }
      ]
    },
    {
      "cell_type": "code",
      "source": [
        "import torch.nn.functional as F"
      ],
      "metadata": {
        "id": "KCdGcikVvPfv"
      },
      "execution_count": 57,
      "outputs": []
    },
    {
      "cell_type": "code",
      "source": [
        "loss_fn = F.mse_loss"
      ],
      "metadata": {
        "id": "cQYgSnjEv0N-"
      },
      "execution_count": 58,
      "outputs": []
    },
    {
      "cell_type": "code",
      "source": [
        "loss = loss_fn(model(inputs), targets)\n",
        "print(loss)"
      ],
      "metadata": {
        "colab": {
          "base_uri": "https://localhost:8080/"
        },
        "id": "ODYZ-Ip7wHRB",
        "outputId": "25e661ee-c2fa-4631-db67-fe7903a1ef4f"
      },
      "execution_count": 59,
      "outputs": [
        {
          "output_type": "stream",
          "name": "stdout",
          "text": [
            "tensor(3738.7390, grad_fn=<MseLossBackward0>)\n"
          ]
        }
      ]
    },
    {
      "cell_type": "code",
      "source": [
        "opt = torch.optim.SGD(model.parameters(), lr=1e-5)"
      ],
      "metadata": {
        "id": "jebjKZJtwpJW"
      },
      "execution_count": 61,
      "outputs": []
    },
    {
      "cell_type": "code",
      "source": [
        "def fit(num_epochs, model, loss_fn, opt):\n",
        "  for epoch in range(num_epochs):\n",
        "\n",
        "    pred = model(xb)\n",
        "\n",
        "    loss = loss_fn(pred, yb)\n",
        "\n",
        "    loss.backward()\n",
        "\n",
        "    opt.step()\n",
        "\n",
        "    opt.zero_grad()\n",
        "  \n",
        "    if(epoch+1)% 10 ==0:\n",
        "      print(\"Epoch [{}/{}], Loss:{:.4f}\".format(epoch+1,num_epochs,loss.item()))"
      ],
      "metadata": {
        "id": "87e7ULLWxCGf"
      },
      "execution_count": 64,
      "outputs": []
    },
    {
      "cell_type": "code",
      "source": [
        "fit(100, model, loss_fn, opt)"
      ],
      "metadata": {
        "colab": {
          "base_uri": "https://localhost:8080/"
        },
        "id": "p9Lwq3M-zzKe",
        "outputId": "3371769b-c87d-4865-c051-222689f1d3f2"
      },
      "execution_count": 65,
      "outputs": [
        {
          "output_type": "stream",
          "name": "stdout",
          "text": [
            "Epoch [10/100], Loss:150.7932\n",
            "Epoch [20/100], Loss:138.0272\n",
            "Epoch [30/100], Loss:126.6796\n",
            "Epoch [40/100], Loss:116.5818\n",
            "Epoch [50/100], Loss:107.5855\n",
            "Epoch [60/100], Loss:99.5604\n",
            "Epoch [70/100], Loss:92.3915\n",
            "Epoch [80/100], Loss:85.9783\n",
            "Epoch [90/100], Loss:80.2318\n",
            "Epoch [100/100], Loss:75.0738\n"
          ]
        }
      ]
    },
    {
      "cell_type": "code",
      "source": [
        "preds = model(inputs)\n",
        "preds"
      ],
      "metadata": {
        "colab": {
          "base_uri": "https://localhost:8080/"
        },
        "id": "Dxd8krSX0FSb",
        "outputId": "8e2473cb-1135-4158-df9e-3219d333d141"
      },
      "execution_count": 67,
      "outputs": [
        {
          "output_type": "execute_result",
          "data": {
            "text/plain": [
              "tensor([[ 59.6064,  73.4919],\n",
              "        [ 79.0762, 100.3174],\n",
              "        [129.5453, 136.1940],\n",
              "        [ 29.0432,  49.3766],\n",
              "        [ 91.2059, 110.7419],\n",
              "        [ 58.3630,  72.6138],\n",
              "        [ 77.9803,  99.9526],\n",
              "        [129.3682, 136.6275],\n",
              "        [ 30.2866,  50.2547],\n",
              "        [ 91.3533, 111.2553],\n",
              "        [ 58.5104,  73.1272],\n",
              "        [ 77.8329,  99.4392],\n",
              "        [130.6413, 136.5588],\n",
              "        [ 28.8958,  48.8632],\n",
              "        [ 92.4492, 111.6201]], grad_fn=<AddmmBackward0>)"
            ]
          },
          "metadata": {},
          "execution_count": 67
        }
      ]
    },
    {
      "cell_type": "code",
      "source": [
        "targets"
      ],
      "metadata": {
        "colab": {
          "base_uri": "https://localhost:8080/"
        },
        "id": "Yo7g81Mq04rt",
        "outputId": "04748762-6830-4e45-c055-d1c4a8cf5a15"
      },
      "execution_count": 68,
      "outputs": [
        {
          "output_type": "execute_result",
          "data": {
            "text/plain": [
              "tensor([[ 56.,  70.],\n",
              "        [ 81., 101.],\n",
              "        [119., 133.],\n",
              "        [ 22.,  37.],\n",
              "        [103., 119.],\n",
              "        [ 57.,  69.],\n",
              "        [ 80., 102.],\n",
              "        [118., 132.],\n",
              "        [ 21.,  38.],\n",
              "        [104., 118.],\n",
              "        [ 57.,  69.],\n",
              "        [ 82., 100.],\n",
              "        [118., 134.],\n",
              "        [ 20.,  38.],\n",
              "        [102., 120.]])"
            ]
          },
          "metadata": {},
          "execution_count": 68
        }
      ]
    },
    {
      "cell_type": "code",
      "source": [
        ""
      ],
      "metadata": {
        "id": "CPoi2wqx0-RJ"
      },
      "execution_count": null,
      "outputs": []
    }
  ]
}